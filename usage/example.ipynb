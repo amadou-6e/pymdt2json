{
 "cells": [
  {
   "cell_type": "markdown",
   "metadata": {},
   "source": [
    "# Minifying Markdown Tables for Efficient Embedding\n",
    "This notebook demonstrates how to minify markdown tables using **pymdt2json**, reducing character size for models with strict input limits."
   ]
  },
  {
   "cell_type": "code",
   "execution_count": 16,
   "metadata": {},
   "outputs": [
    {
     "name": "stdout",
     "output_type": "stream",
     "text": [
      "Requirement already satisfied: pymdt2json in c:\\users\\acisse\\onedrive - bridgingit-gruppe\\003_codeworkspace\\003_private\\pymdt2json (0.3.0)\n",
      "Requirement already satisfied: llama-index in c:\\users\\acisse\\appdata\\roaming\\python\\python311\\site-packages (0.12.23)\n",
      "Requirement already satisfied: pandas in c:\\users\\acisse\\appdata\\roaming\\python\\python311\\site-packages (2.2.3)\n",
      "Requirement already satisfied: transformers in c:\\users\\acisse\\appdata\\roaming\\python\\python311\\site-packages (4.49.0)\n",
      "Requirement already satisfied: tabulate in c:\\users\\acisse\\.conda\\envs\\pymtd2json\\lib\\site-packages (0.9.0)\n",
      "Requirement already satisfied: llama-index-agent-openai<0.5.0,>=0.4.0 in c:\\users\\acisse\\appdata\\roaming\\python\\python311\\site-packages (from llama-index) (0.4.6)\n",
      "Requirement already satisfied: llama-index-cli<0.5.0,>=0.4.1 in c:\\users\\acisse\\appdata\\roaming\\python\\python311\\site-packages (from llama-index) (0.4.1)\n",
      "Requirement already satisfied: llama-index-core<0.13.0,>=0.12.23 in c:\\users\\acisse\\appdata\\roaming\\python\\python311\\site-packages (from llama-index) (0.12.23.post2)\n",
      "Requirement already satisfied: llama-index-embeddings-openai<0.4.0,>=0.3.0 in c:\\users\\acisse\\appdata\\roaming\\python\\python311\\site-packages (from llama-index) (0.3.1)\n",
      "Requirement already satisfied: llama-index-indices-managed-llama-cloud>=0.4.0 in c:\\users\\acisse\\appdata\\roaming\\python\\python311\\site-packages (from llama-index) (0.6.8)\n",
      "Requirement already satisfied: llama-index-llms-openai<0.4.0,>=0.3.0 in c:\\users\\acisse\\appdata\\roaming\\python\\python311\\site-packages (from llama-index) (0.3.25)\n",
      "Requirement already satisfied: llama-index-multi-modal-llms-openai<0.5.0,>=0.4.0 in c:\\users\\acisse\\appdata\\roaming\\python\\python311\\site-packages (from llama-index) (0.4.3)\n",
      "Requirement already satisfied: llama-index-program-openai<0.4.0,>=0.3.0 in c:\\users\\acisse\\appdata\\roaming\\python\\python311\\site-packages (from llama-index) (0.3.1)\n",
      "Requirement already satisfied: llama-index-question-gen-openai<0.4.0,>=0.3.0 in c:\\users\\acisse\\appdata\\roaming\\python\\python311\\site-packages (from llama-index) (0.3.0)\n",
      "Requirement already satisfied: llama-index-readers-file<0.5.0,>=0.4.0 in c:\\users\\acisse\\appdata\\roaming\\python\\python311\\site-packages (from llama-index) (0.4.6)\n",
      "Requirement already satisfied: llama-index-readers-llama-parse>=0.4.0 in c:\\users\\acisse\\appdata\\roaming\\python\\python311\\site-packages (from llama-index) (0.4.0)\n",
      "Requirement already satisfied: nltk>3.8.1 in c:\\users\\acisse\\appdata\\roaming\\python\\python311\\site-packages (from llama-index) (3.9.1)\n",
      "Requirement already satisfied: numpy>=1.23.2 in c:\\users\\acisse\\.conda\\envs\\pymtd2json\\lib\\site-packages (from pandas) (2.2.5)\n",
      "Requirement already satisfied: python-dateutil>=2.8.2 in c:\\users\\acisse\\.conda\\envs\\pymtd2json\\lib\\site-packages (from pandas) (2.9.0.post0)\n",
      "Requirement already satisfied: pytz>=2020.1 in c:\\users\\acisse\\appdata\\roaming\\python\\python311\\site-packages (from pandas) (2025.1)\n",
      "Requirement already satisfied: tzdata>=2022.7 in c:\\users\\acisse\\appdata\\roaming\\python\\python311\\site-packages (from pandas) (2025.1)\n",
      "Requirement already satisfied: filelock in c:\\users\\acisse\\appdata\\roaming\\python\\python311\\site-packages (from transformers) (3.17.0)\n",
      "Requirement already satisfied: huggingface-hub<1.0,>=0.26.0 in c:\\users\\acisse\\appdata\\roaming\\python\\python311\\site-packages (from transformers) (0.29.2)\n",
      "Requirement already satisfied: packaging>=20.0 in c:\\users\\acisse\\.conda\\envs\\pymtd2json\\lib\\site-packages (from transformers) (24.2)\n",
      "Requirement already satisfied: pyyaml>=5.1 in c:\\users\\acisse\\appdata\\roaming\\python\\python311\\site-packages (from transformers) (6.0.2)\n",
      "Requirement already satisfied: regex!=2019.12.17 in c:\\users\\acisse\\appdata\\roaming\\python\\python311\\site-packages (from transformers) (2024.11.6)\n",
      "Requirement already satisfied: requests in c:\\users\\acisse\\appdata\\roaming\\python\\python311\\site-packages (from transformers) (2.32.3)\n",
      "Requirement already satisfied: tokenizers<0.22,>=0.21 in c:\\users\\acisse\\appdata\\roaming\\python\\python311\\site-packages (from transformers) (0.21.0)\n",
      "Requirement already satisfied: safetensors>=0.4.1 in c:\\users\\acisse\\appdata\\roaming\\python\\python311\\site-packages (from transformers) (0.5.3)\n",
      "Requirement already satisfied: tqdm>=4.27 in c:\\users\\acisse\\appdata\\roaming\\python\\python311\\site-packages (from transformers) (4.67.1)\n",
      "Requirement already satisfied: fsspec>=2023.5.0 in c:\\users\\acisse\\appdata\\roaming\\python\\python311\\site-packages (from huggingface-hub<1.0,>=0.26.0->transformers) (2025.3.0)\n",
      "Requirement already satisfied: typing-extensions>=3.7.4.3 in c:\\users\\acisse\\.conda\\envs\\pymtd2json\\lib\\site-packages (from huggingface-hub<1.0,>=0.26.0->transformers) (4.13.2)\n",
      "Requirement already satisfied: openai>=1.14.0 in c:\\users\\acisse\\appdata\\roaming\\python\\python311\\site-packages (from llama-index-agent-openai<0.5.0,>=0.4.0->llama-index) (1.65.5)\n",
      "Requirement already satisfied: SQLAlchemy>=1.4.49 in c:\\users\\acisse\\appdata\\roaming\\python\\python311\\site-packages (from SQLAlchemy[asyncio]>=1.4.49->llama-index-core<0.13.0,>=0.12.23->llama-index) (2.0.38)\n",
      "Requirement already satisfied: aiohttp<4.0.0,>=3.8.6 in c:\\users\\acisse\\appdata\\roaming\\python\\python311\\site-packages (from llama-index-core<0.13.0,>=0.12.23->llama-index) (3.11.13)\n",
      "Requirement already satisfied: dataclasses-json in c:\\users\\acisse\\appdata\\roaming\\python\\python311\\site-packages (from llama-index-core<0.13.0,>=0.12.23->llama-index) (0.6.7)\n",
      "Requirement already satisfied: deprecated>=1.2.9.3 in c:\\users\\acisse\\appdata\\roaming\\python\\python311\\site-packages (from llama-index-core<0.13.0,>=0.12.23->llama-index) (1.2.18)\n",
      "Requirement already satisfied: dirtyjson<2.0.0,>=1.0.8 in c:\\users\\acisse\\appdata\\roaming\\python\\python311\\site-packages (from llama-index-core<0.13.0,>=0.12.23->llama-index) (1.0.8)\n",
      "Requirement already satisfied: filetype<2.0.0,>=1.2.0 in c:\\users\\acisse\\appdata\\roaming\\python\\python311\\site-packages (from llama-index-core<0.13.0,>=0.12.23->llama-index) (1.2.0)\n",
      "Requirement already satisfied: httpx in c:\\users\\acisse\\appdata\\roaming\\python\\python311\\site-packages (from llama-index-core<0.13.0,>=0.12.23->llama-index) (0.28.1)\n",
      "Requirement already satisfied: nest-asyncio<2.0.0,>=1.5.8 in c:\\users\\acisse\\.conda\\envs\\pymtd2json\\lib\\site-packages (from llama-index-core<0.13.0,>=0.12.23->llama-index) (1.6.0)\n",
      "Requirement already satisfied: networkx>=3.0 in c:\\users\\acisse\\appdata\\roaming\\python\\python311\\site-packages (from llama-index-core<0.13.0,>=0.12.23->llama-index) (3.4.2)\n",
      "Requirement already satisfied: pillow>=9.0.0 in c:\\users\\acisse\\.conda\\envs\\pymtd2json\\lib\\site-packages (from llama-index-core<0.13.0,>=0.12.23->llama-index) (11.2.1)\n",
      "Requirement already satisfied: pydantic>=2.8.0 in c:\\users\\acisse\\appdata\\roaming\\python\\python311\\site-packages (from llama-index-core<0.13.0,>=0.12.23->llama-index) (2.10.6)\n",
      "Requirement already satisfied: tenacity!=8.4.0,<10.0.0,>=8.2.0 in c:\\users\\acisse\\appdata\\roaming\\python\\python311\\site-packages (from llama-index-core<0.13.0,>=0.12.23->llama-index) (9.0.0)\n",
      "Requirement already satisfied: tiktoken>=0.3.3 in c:\\users\\acisse\\appdata\\roaming\\python\\python311\\site-packages (from llama-index-core<0.13.0,>=0.12.23->llama-index) (0.9.0)\n",
      "Requirement already satisfied: typing-inspect>=0.8.0 in c:\\users\\acisse\\appdata\\roaming\\python\\python311\\site-packages (from llama-index-core<0.13.0,>=0.12.23->llama-index) (0.9.0)\n",
      "Requirement already satisfied: wrapt in c:\\users\\acisse\\appdata\\roaming\\python\\python311\\site-packages (from llama-index-core<0.13.0,>=0.12.23->llama-index) (1.17.2)\n",
      "Requirement already satisfied: llama-cloud<0.2.0,>=0.1.13 in c:\\users\\acisse\\appdata\\roaming\\python\\python311\\site-packages (from llama-index-indices-managed-llama-cloud>=0.4.0->llama-index) (0.1.14)\n",
      "Requirement already satisfied: beautifulsoup4<5.0.0,>=4.12.3 in c:\\users\\acisse\\appdata\\roaming\\python\\python311\\site-packages (from llama-index-readers-file<0.5.0,>=0.4.0->llama-index) (4.13.3)\n",
      "Requirement already satisfied: pypdf<6.0.0,>=5.1.0 in c:\\users\\acisse\\appdata\\roaming\\python\\python311\\site-packages (from llama-index-readers-file<0.5.0,>=0.4.0->llama-index) (5.3.1)\n",
      "Requirement already satisfied: striprtf<0.0.27,>=0.0.26 in c:\\users\\acisse\\appdata\\roaming\\python\\python311\\site-packages (from llama-index-readers-file<0.5.0,>=0.4.0->llama-index) (0.0.26)\n",
      "Requirement already satisfied: llama-parse>=0.5.0 in c:\\users\\acisse\\appdata\\roaming\\python\\python311\\site-packages (from llama-index-readers-llama-parse>=0.4.0->llama-index) (0.6.4.post1)\n",
      "Requirement already satisfied: click in c:\\users\\acisse\\appdata\\roaming\\python\\python311\\site-packages (from nltk>3.8.1->llama-index) (8.1.8)\n",
      "Requirement already satisfied: joblib in c:\\users\\acisse\\appdata\\roaming\\python\\python311\\site-packages (from nltk>3.8.1->llama-index) (1.4.2)\n",
      "Requirement already satisfied: six>=1.5 in c:\\users\\acisse\\.conda\\envs\\pymtd2json\\lib\\site-packages (from python-dateutil>=2.8.2->pandas) (1.17.0)\n",
      "Requirement already satisfied: charset-normalizer<4,>=2 in c:\\users\\acisse\\appdata\\roaming\\python\\python311\\site-packages (from requests->transformers) (3.4.1)\n",
      "Requirement already satisfied: idna<4,>=2.5 in c:\\users\\acisse\\appdata\\roaming\\python\\python311\\site-packages (from requests->transformers) (3.10)\n",
      "Requirement already satisfied: urllib3<3,>=1.21.1 in c:\\users\\acisse\\appdata\\roaming\\python\\python311\\site-packages (from requests->transformers) (2.3.0)\n",
      "Requirement already satisfied: certifi>=2017.4.17 in c:\\users\\acisse\\appdata\\roaming\\python\\python311\\site-packages (from requests->transformers) (2025.1.31)\n",
      "Requirement already satisfied: colorama in c:\\users\\acisse\\.conda\\envs\\pymtd2json\\lib\\site-packages (from tqdm>=4.27->transformers) (0.4.6)\n",
      "Requirement already satisfied: aiohappyeyeballs>=2.3.0 in c:\\users\\acisse\\appdata\\roaming\\python\\python311\\site-packages (from aiohttp<4.0.0,>=3.8.6->llama-index-core<0.13.0,>=0.12.23->llama-index) (2.5.0)\n",
      "Requirement already satisfied: aiosignal>=1.1.2 in c:\\users\\acisse\\appdata\\roaming\\python\\python311\\site-packages (from aiohttp<4.0.0,>=3.8.6->llama-index-core<0.13.0,>=0.12.23->llama-index) (1.3.2)\n",
      "Requirement already satisfied: attrs>=17.3.0 in c:\\users\\acisse\\appdata\\roaming\\python\\python311\\site-packages (from aiohttp<4.0.0,>=3.8.6->llama-index-core<0.13.0,>=0.12.23->llama-index) (25.1.0)\n",
      "Requirement already satisfied: frozenlist>=1.1.1 in c:\\users\\acisse\\appdata\\roaming\\python\\python311\\site-packages (from aiohttp<4.0.0,>=3.8.6->llama-index-core<0.13.0,>=0.12.23->llama-index) (1.5.0)\n",
      "Requirement already satisfied: multidict<7.0,>=4.5 in c:\\users\\acisse\\appdata\\roaming\\python\\python311\\site-packages (from aiohttp<4.0.0,>=3.8.6->llama-index-core<0.13.0,>=0.12.23->llama-index) (6.1.0)\n",
      "Requirement already satisfied: propcache>=0.2.0 in c:\\users\\acisse\\appdata\\roaming\\python\\python311\\site-packages (from aiohttp<4.0.0,>=3.8.6->llama-index-core<0.13.0,>=0.12.23->llama-index) (0.3.0)\n",
      "Requirement already satisfied: yarl<2.0,>=1.17.0 in c:\\users\\acisse\\appdata\\roaming\\python\\python311\\site-packages (from aiohttp<4.0.0,>=3.8.6->llama-index-core<0.13.0,>=0.12.23->llama-index) (1.18.3)\n",
      "Requirement already satisfied: soupsieve>1.2 in c:\\users\\acisse\\appdata\\roaming\\python\\python311\\site-packages (from beautifulsoup4<5.0.0,>=4.12.3->llama-index-readers-file<0.5.0,>=0.4.0->llama-index) (2.6)\n",
      "Requirement already satisfied: anyio in c:\\users\\acisse\\appdata\\roaming\\python\\python311\\site-packages (from httpx->llama-index-core<0.13.0,>=0.12.23->llama-index) (4.8.0)\n",
      "Requirement already satisfied: httpcore==1.* in c:\\users\\acisse\\appdata\\roaming\\python\\python311\\site-packages (from httpx->llama-index-core<0.13.0,>=0.12.23->llama-index) (1.0.7)\n",
      "Requirement already satisfied: h11<0.15,>=0.13 in c:\\users\\acisse\\appdata\\roaming\\python\\python311\\site-packages (from httpcore==1.*->httpx->llama-index-core<0.13.0,>=0.12.23->llama-index) (0.14.0)\n",
      "Requirement already satisfied: llama-cloud-services>=0.6.4 in c:\\users\\acisse\\appdata\\roaming\\python\\python311\\site-packages (from llama-parse>=0.5.0->llama-index-readers-llama-parse>=0.4.0->llama-index) (0.6.5)\n",
      "Requirement already satisfied: distro<2,>=1.7.0 in c:\\users\\acisse\\appdata\\roaming\\python\\python311\\site-packages (from openai>=1.14.0->llama-index-agent-openai<0.5.0,>=0.4.0->llama-index) (1.9.0)\n",
      "Requirement already satisfied: jiter<1,>=0.4.0 in c:\\users\\acisse\\appdata\\roaming\\python\\python311\\site-packages (from openai>=1.14.0->llama-index-agent-openai<0.5.0,>=0.4.0->llama-index) (0.8.2)\n",
      "Requirement already satisfied: sniffio in c:\\users\\acisse\\appdata\\roaming\\python\\python311\\site-packages (from openai>=1.14.0->llama-index-agent-openai<0.5.0,>=0.4.0->llama-index) (1.3.1)\n",
      "Requirement already satisfied: annotated-types>=0.6.0 in c:\\users\\acisse\\appdata\\roaming\\python\\python311\\site-packages (from pydantic>=2.8.0->llama-index-core<0.13.0,>=0.12.23->llama-index) (0.7.0)\n",
      "Requirement already satisfied: pydantic-core==2.27.2 in c:\\users\\acisse\\appdata\\roaming\\python\\python311\\site-packages (from pydantic>=2.8.0->llama-index-core<0.13.0,>=0.12.23->llama-index) (2.27.2)\n",
      "Requirement already satisfied: greenlet!=0.4.17 in c:\\users\\acisse\\appdata\\roaming\\python\\python311\\site-packages (from SQLAlchemy>=1.4.49->SQLAlchemy[asyncio]>=1.4.49->llama-index-core<0.13.0,>=0.12.23->llama-index) (3.1.1)\n",
      "Requirement already satisfied: mypy-extensions>=0.3.0 in c:\\users\\acisse\\appdata\\roaming\\python\\python311\\site-packages (from typing-inspect>=0.8.0->llama-index-core<0.13.0,>=0.12.23->llama-index) (1.0.0)\n",
      "Requirement already satisfied: marshmallow<4.0.0,>=3.18.0 in c:\\users\\acisse\\appdata\\roaming\\python\\python311\\site-packages (from dataclasses-json->llama-index-core<0.13.0,>=0.12.23->llama-index) (3.26.1)\n",
      "Requirement already satisfied: python-dotenv<2.0.0,>=1.0.1 in c:\\users\\acisse\\appdata\\roaming\\python\\python311\\site-packages (from llama-cloud-services>=0.6.4->llama-parse>=0.5.0->llama-index-readers-llama-parse>=0.4.0->llama-index) (1.0.1)\n",
      "Note: you may need to restart the kernel to use updated packages.\n"
     ]
    }
   ],
   "source": [
    "%pip install pymdt2json llama-index pandas transformers tabulate"
   ]
  },
  {
   "cell_type": "code",
   "execution_count": 17,
   "metadata": {},
   "outputs": [
    {
     "name": "stderr",
     "output_type": "stream",
     "text": [
      "Cloning into 'ai-data-zoo'...\n"
     ]
    }
   ],
   "source": [
    "!git clone https://github.com/amadou-6e/ai-data-zoo.git\n",
    "!tar -xf ai-data-zoo/markdown.zip"
   ]
  },
  {
   "cell_type": "markdown",
   "metadata": {},
   "source": [
    "### Step 1: Load Markdown Documents\n",
    "We'll load a few example markdown files containing large tables."
   ]
  },
  {
   "cell_type": "code",
   "execution_count": 18,
   "metadata": {},
   "outputs": [
    {
     "name": "stdout",
     "output_type": "stream",
     "text": [
      "Loaded 16 documents.\n"
     ]
    }
   ],
   "source": [
    "from pathlib import Path\n",
    "from llama_index.core import SimpleDirectoryReader\n",
    "\n",
    "# Load markdown documents\n",
    "source_dir = Path(\"markdown\")  # Replace with your actual directory\n",
    "documents = SimpleDirectoryReader(source_dir, required_exts=[\".md\"], recursive=True).load_data()\n",
    "print(f\"Loaded {len(documents)} documents.\")"
   ]
  },
  {
   "cell_type": "markdown",
   "metadata": {},
   "source": [
    "### Step 2: Minify Markdown Tables\n",
    "Convert markdown tables to compact JSON blocks to save characters and tokens."
   ]
  },
  {
   "cell_type": "code",
   "execution_count": 19,
   "metadata": {},
   "outputs": [
    {
     "name": "stdout",
     "output_type": "stream",
     "text": [
      "Document 0 minified. Length: 2379 characters.\n",
      "Document 1 minified. Length: 2379 characters.\n",
      "Document 2 minified. Length: 8196 characters.\n",
      "Document 3 minified. Length: 13301 characters.\n",
      "Document 4 minified. Length: 43774 characters.\n",
      "Document 5 minified. Length: 11700 characters.\n",
      "Document 6 minified. Length: 52743 characters.\n",
      "Document 7 minified. Length: 22386 characters.\n",
      "Document 8 minified. Length: 66389 characters.\n",
      "Document 9 minified. Length: 145155 characters.\n",
      "Document 10 minified. Length: 59313 characters.\n",
      "Document 11 minified. Length: 37728 characters.\n",
      "Document 12 minified. Length: 44536 characters.\n",
      "Document 13 minified. Length: 117099 characters.\n",
      "Document 14 minified. Length: 73503 characters.\n",
      "Document 15 minified. Length: 12962 characters.\n"
     ]
    }
   ],
   "source": [
    "from pymdt2json import MinifyMDT\n",
    "\n",
    "minified_docs = []\n",
    "\n",
    "for idx, doc in enumerate(documents):\n",
    "    minified_text = MinifyMDT(doc.text_resource.text).transform()\n",
    "    minified_docs.append(minified_text)\n",
    "    print(f\"Document {idx} minified. Length: {len(minified_text)} characters.\")"
   ]
  },
  {
   "cell_type": "markdown",
   "metadata": {},
   "source": [
    "### Step 3: Compare a Markdown Table Before and After Minification\n",
    "We'll create a large sample table and show the size difference."
   ]
  },
  {
   "cell_type": "code",
   "execution_count": 20,
   "metadata": {},
   "outputs": [
    {
     "name": "stdout",
     "output_type": "stream",
     "text": [
      "| A very long row content, which leads to a lot of white spaces   |   Age | City   |\n",
      "|:----------------------------------------------------------------|------:|:-------|\n",
      "| Person0                                                         |    20 | City0  |\n",
      "| Person1                                                         |    21 | City1  |\n",
      "| Person2                                                         |    22 | City2  |\n",
      "| Person3                                                         |    23 |\n"
     ]
    }
   ],
   "source": [
    "import pandas as pd\n",
    "\n",
    "# Create sample data\n",
    "data = {\n",
    "    \"Name\": [f\"Person{i}\" for i in range(30)],\n",
    "    \"Age\": [20 + i for i in range(30)],\n",
    "    \"City\": [f\"City{i}\" for i in range(30)]\n",
    "}\n",
    "\n",
    "df = pd.DataFrame(data)\n",
    "df.columns = [\"A very long row content, which leads to a lot of white spaces\", \"Age\", \"City\"]\n",
    "\n",
    "# Convert to markdown\n",
    "markdown_table = df.to_markdown(index=False)\n",
    "print(markdown_table[:500])  # Preview"
   ]
  },
  {
   "cell_type": "markdown",
   "metadata": {},
   "source": [
    "#### Measure size before minification"
   ]
  },
  {
   "cell_type": "code",
   "execution_count": 21,
   "metadata": {},
   "outputs": [
    {
     "name": "stdout",
     "output_type": "stream",
     "text": [
      "Original characters: 2719\n"
     ]
    }
   ],
   "source": [
    "print(f\"Original characters: {len(markdown_table)}\")"
   ]
  },
  {
   "cell_type": "code",
   "execution_count": 22,
   "metadata": {},
   "outputs": [
    {
     "name": "stdout",
     "output_type": "stream",
     "text": [
      "Original tokens: 432\n"
     ]
    }
   ],
   "source": [
    "from transformers import AutoTokenizer\n",
    "\n",
    "tokenizer = AutoTokenizer.from_pretrained(\"Cohere/Cohere-embed-multilingual-v3.0\")\n",
    "encoded = tokenizer(markdown_table, return_tensors=\"pt\", add_special_tokens=False)\n",
    "print(f\"Original tokens: {encoded.input_ids.shape[-1]}\")"
   ]
  },
  {
   "cell_type": "markdown",
   "metadata": {},
   "source": [
    "#### Minify and measure size after minification"
   ]
  },
  {
   "cell_type": "code",
   "execution_count": 23,
   "metadata": {},
   "outputs": [
    {
     "name": "stdout",
     "output_type": "stream",
     "text": [
      "Minified characters: 1027\n",
      "Minified tokens: 461\n"
     ]
    }
   ],
   "source": [
    "compressed_table = MinifyMDT(markdown_table).transform()\n",
    "\n",
    "print(f\"Minified characters: {len(compressed_table)}\")\n",
    "\n",
    "compressed_encoded = tokenizer(compressed_table, return_tensors=\"pt\", add_special_tokens=False)\n",
    "print(f\"Minified tokens: {compressed_encoded.input_ids.shape[-1]}\")"
   ]
  },
  {
   "cell_type": "markdown",
   "metadata": {},
   "source": [
    "## Conclusion\n",
    "Markdown tables can waste thousands of characters and hundreds of tokens.\n",
    "**Minifying** them **preserves meaning** while making the text embedding-friendly for models with character or token limits."
   ]
  }
 ],
 "metadata": {
  "kernelspec": {
   "display_name": "Python 3",
   "language": "python",
   "name": "python3"
  },
  "language_info": {
   "name": "python",
   "version": "3.11"
  }
 },
 "nbformat": 4,
 "nbformat_minor": 2
}
