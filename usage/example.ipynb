{
 "cells": [
  {
   "cell_type": "markdown",
   "metadata": {},
   "source": []
  },
  {
   "cell_type": "code",
   "execution_count": 1,
   "metadata": {},
   "outputs": [
    {
     "name": "stdout",
     "output_type": "stream",
     "text": [
      "Requirement already satisfied: llama-index in c:\\users\\acisse\\appdata\\roaming\\python\\python311\\site-packages (0.12.23)\n",
      "Requirement already satisfied: numpy in c:\\users\\acisse\\.conda\\envs\\pymtd2json\\lib\\site-packages (2.2.5)\n",
      "Requirement already satisfied: llama-index-agent-openai<0.5.0,>=0.4.0 in c:\\users\\acisse\\appdata\\roaming\\python\\python311\\site-packages (from llama-index) (0.4.6)\n",
      "Requirement already satisfied: llama-index-cli<0.5.0,>=0.4.1 in c:\\users\\acisse\\appdata\\roaming\\python\\python311\\site-packages (from llama-index) (0.4.1)\n",
      "Requirement already satisfied: llama-index-core<0.13.0,>=0.12.23 in c:\\users\\acisse\\appdata\\roaming\\python\\python311\\site-packages (from llama-index) (0.12.23.post2)\n",
      "Requirement already satisfied: llama-index-embeddings-openai<0.4.0,>=0.3.0 in c:\\users\\acisse\\appdata\\roaming\\python\\python311\\site-packages (from llama-index) (0.3.1)\n",
      "Requirement already satisfied: llama-index-indices-managed-llama-cloud>=0.4.0 in c:\\users\\acisse\\appdata\\roaming\\python\\python311\\site-packages (from llama-index) (0.6.8)\n",
      "Requirement already satisfied: llama-index-llms-openai<0.4.0,>=0.3.0 in c:\\users\\acisse\\appdata\\roaming\\python\\python311\\site-packages (from llama-index) (0.3.25)\n",
      "Requirement already satisfied: llama-index-multi-modal-llms-openai<0.5.0,>=0.4.0 in c:\\users\\acisse\\appdata\\roaming\\python\\python311\\site-packages (from llama-index) (0.4.3)\n",
      "Requirement already satisfied: llama-index-program-openai<0.4.0,>=0.3.0 in c:\\users\\acisse\\appdata\\roaming\\python\\python311\\site-packages (from llama-index) (0.3.1)\n",
      "Requirement already satisfied: llama-index-question-gen-openai<0.4.0,>=0.3.0 in c:\\users\\acisse\\appdata\\roaming\\python\\python311\\site-packages (from llama-index) (0.3.0)\n",
      "Requirement already satisfied: llama-index-readers-file<0.5.0,>=0.4.0 in c:\\users\\acisse\\appdata\\roaming\\python\\python311\\site-packages (from llama-index) (0.4.6)\n",
      "Requirement already satisfied: llama-index-readers-llama-parse>=0.4.0 in c:\\users\\acisse\\appdata\\roaming\\python\\python311\\site-packages (from llama-index) (0.4.0)\n",
      "Requirement already satisfied: nltk>3.8.1 in c:\\users\\acisse\\appdata\\roaming\\python\\python311\\site-packages (from llama-index) (3.9.1)\n",
      "Requirement already satisfied: openai>=1.14.0 in c:\\users\\acisse\\appdata\\roaming\\python\\python311\\site-packages (from llama-index-agent-openai<0.5.0,>=0.4.0->llama-index) (1.65.5)\n",
      "Requirement already satisfied: PyYAML>=6.0.1 in c:\\users\\acisse\\appdata\\roaming\\python\\python311\\site-packages (from llama-index-core<0.13.0,>=0.12.23->llama-index) (6.0.2)\n",
      "Requirement already satisfied: SQLAlchemy>=1.4.49 in c:\\users\\acisse\\appdata\\roaming\\python\\python311\\site-packages (from SQLAlchemy[asyncio]>=1.4.49->llama-index-core<0.13.0,>=0.12.23->llama-index) (2.0.38)\n",
      "Requirement already satisfied: aiohttp<4.0.0,>=3.8.6 in c:\\users\\acisse\\appdata\\roaming\\python\\python311\\site-packages (from llama-index-core<0.13.0,>=0.12.23->llama-index) (3.11.13)\n",
      "Requirement already satisfied: dataclasses-json in c:\\users\\acisse\\appdata\\roaming\\python\\python311\\site-packages (from llama-index-core<0.13.0,>=0.12.23->llama-index) (0.6.7)\n",
      "Requirement already satisfied: deprecated>=1.2.9.3 in c:\\users\\acisse\\appdata\\roaming\\python\\python311\\site-packages (from llama-index-core<0.13.0,>=0.12.23->llama-index) (1.2.18)\n",
      "Requirement already satisfied: dirtyjson<2.0.0,>=1.0.8 in c:\\users\\acisse\\appdata\\roaming\\python\\python311\\site-packages (from llama-index-core<0.13.0,>=0.12.23->llama-index) (1.0.8)\n",
      "Requirement already satisfied: filetype<2.0.0,>=1.2.0 in c:\\users\\acisse\\appdata\\roaming\\python\\python311\\site-packages (from llama-index-core<0.13.0,>=0.12.23->llama-index) (1.2.0)\n",
      "Requirement already satisfied: fsspec>=2023.5.0 in c:\\users\\acisse\\appdata\\roaming\\python\\python311\\site-packages (from llama-index-core<0.13.0,>=0.12.23->llama-index) (2025.3.0)\n",
      "Requirement already satisfied: httpx in c:\\users\\acisse\\appdata\\roaming\\python\\python311\\site-packages (from llama-index-core<0.13.0,>=0.12.23->llama-index) (0.28.1)\n",
      "Requirement already satisfied: nest-asyncio<2.0.0,>=1.5.8 in c:\\users\\acisse\\.conda\\envs\\pymtd2json\\lib\\site-packages (from llama-index-core<0.13.0,>=0.12.23->llama-index) (1.6.0)\n",
      "Requirement already satisfied: networkx>=3.0 in c:\\users\\acisse\\appdata\\roaming\\python\\python311\\site-packages (from llama-index-core<0.13.0,>=0.12.23->llama-index) (3.4.2)\n",
      "Requirement already satisfied: pillow>=9.0.0 in c:\\users\\acisse\\.conda\\envs\\pymtd2json\\lib\\site-packages (from llama-index-core<0.13.0,>=0.12.23->llama-index) (11.2.1)\n",
      "Requirement already satisfied: pydantic>=2.8.0 in c:\\users\\acisse\\appdata\\roaming\\python\\python311\\site-packages (from llama-index-core<0.13.0,>=0.12.23->llama-index) (2.10.6)\n",
      "Requirement already satisfied: requests>=2.31.0 in c:\\users\\acisse\\appdata\\roaming\\python\\python311\\site-packages (from llama-index-core<0.13.0,>=0.12.23->llama-index) (2.32.3)\n",
      "Requirement already satisfied: tenacity!=8.4.0,<10.0.0,>=8.2.0 in c:\\users\\acisse\\appdata\\roaming\\python\\python311\\site-packages (from llama-index-core<0.13.0,>=0.12.23->llama-index) (9.0.0)\n",
      "Requirement already satisfied: tiktoken>=0.3.3 in c:\\users\\acisse\\appdata\\roaming\\python\\python311\\site-packages (from llama-index-core<0.13.0,>=0.12.23->llama-index) (0.9.0)\n",
      "Requirement already satisfied: tqdm<5.0.0,>=4.66.1 in c:\\users\\acisse\\appdata\\roaming\\python\\python311\\site-packages (from llama-index-core<0.13.0,>=0.12.23->llama-index) (4.67.1)\n",
      "Requirement already satisfied: typing-extensions>=4.5.0 in c:\\users\\acisse\\.conda\\envs\\pymtd2json\\lib\\site-packages (from llama-index-core<0.13.0,>=0.12.23->llama-index) (4.13.2)\n",
      "Requirement already satisfied: typing-inspect>=0.8.0 in c:\\users\\acisse\\appdata\\roaming\\python\\python311\\site-packages (from llama-index-core<0.13.0,>=0.12.23->llama-index) (0.9.0)\n",
      "Requirement already satisfied: wrapt in c:\\users\\acisse\\appdata\\roaming\\python\\python311\\site-packages (from llama-index-core<0.13.0,>=0.12.23->llama-index) (1.17.2)\n",
      "Requirement already satisfied: llama-cloud<0.2.0,>=0.1.13 in c:\\users\\acisse\\appdata\\roaming\\python\\python311\\site-packages (from llama-index-indices-managed-llama-cloud>=0.4.0->llama-index) (0.1.14)\n",
      "Requirement already satisfied: beautifulsoup4<5.0.0,>=4.12.3 in c:\\users\\acisse\\appdata\\roaming\\python\\python311\\site-packages (from llama-index-readers-file<0.5.0,>=0.4.0->llama-index) (4.13.3)\n",
      "Requirement already satisfied: pandas in c:\\users\\acisse\\appdata\\roaming\\python\\python311\\site-packages (from llama-index-readers-file<0.5.0,>=0.4.0->llama-index) (2.2.3)\n",
      "Requirement already satisfied: pypdf<6.0.0,>=5.1.0 in c:\\users\\acisse\\appdata\\roaming\\python\\python311\\site-packages (from llama-index-readers-file<0.5.0,>=0.4.0->llama-index) (5.3.1)\n",
      "Requirement already satisfied: striprtf<0.0.27,>=0.0.26 in c:\\users\\acisse\\appdata\\roaming\\python\\python311\\site-packages (from llama-index-readers-file<0.5.0,>=0.4.0->llama-index) (0.0.26)\n",
      "Requirement already satisfied: llama-parse>=0.5.0 in c:\\users\\acisse\\appdata\\roaming\\python\\python311\\site-packages (from llama-index-readers-llama-parse>=0.4.0->llama-index) (0.6.4.post1)\n",
      "Requirement already satisfied: click in c:\\users\\acisse\\appdata\\roaming\\python\\python311\\site-packages (from nltk>3.8.1->llama-index) (8.1.8)\n",
      "Requirement already satisfied: joblib in c:\\users\\acisse\\appdata\\roaming\\python\\python311\\site-packages (from nltk>3.8.1->llama-index) (1.4.2)\n",
      "Requirement already satisfied: regex>=2021.8.3 in c:\\users\\acisse\\appdata\\roaming\\python\\python311\\site-packages (from nltk>3.8.1->llama-index) (2024.11.6)\n",
      "Requirement already satisfied: aiohappyeyeballs>=2.3.0 in c:\\users\\acisse\\appdata\\roaming\\python\\python311\\site-packages (from aiohttp<4.0.0,>=3.8.6->llama-index-core<0.13.0,>=0.12.23->llama-index) (2.5.0)\n",
      "Requirement already satisfied: aiosignal>=1.1.2 in c:\\users\\acisse\\appdata\\roaming\\python\\python311\\site-packages (from aiohttp<4.0.0,>=3.8.6->llama-index-core<0.13.0,>=0.12.23->llama-index) (1.3.2)\n",
      "Requirement already satisfied: attrs>=17.3.0 in c:\\users\\acisse\\appdata\\roaming\\python\\python311\\site-packages (from aiohttp<4.0.0,>=3.8.6->llama-index-core<0.13.0,>=0.12.23->llama-index) (25.1.0)\n",
      "Requirement already satisfied: frozenlist>=1.1.1 in c:\\users\\acisse\\appdata\\roaming\\python\\python311\\site-packages (from aiohttp<4.0.0,>=3.8.6->llama-index-core<0.13.0,>=0.12.23->llama-index) (1.5.0)\n",
      "Requirement already satisfied: multidict<7.0,>=4.5 in c:\\users\\acisse\\appdata\\roaming\\python\\python311\\site-packages (from aiohttp<4.0.0,>=3.8.6->llama-index-core<0.13.0,>=0.12.23->llama-index) (6.1.0)\n",
      "Requirement already satisfied: propcache>=0.2.0 in c:\\users\\acisse\\appdata\\roaming\\python\\python311\\site-packages (from aiohttp<4.0.0,>=3.8.6->llama-index-core<0.13.0,>=0.12.23->llama-index) (0.3.0)\n",
      "Requirement already satisfied: yarl<2.0,>=1.17.0 in c:\\users\\acisse\\appdata\\roaming\\python\\python311\\site-packages (from aiohttp<4.0.0,>=3.8.6->llama-index-core<0.13.0,>=0.12.23->llama-index) (1.18.3)\n",
      "Requirement already satisfied: soupsieve>1.2 in c:\\users\\acisse\\appdata\\roaming\\python\\python311\\site-packages (from beautifulsoup4<5.0.0,>=4.12.3->llama-index-readers-file<0.5.0,>=0.4.0->llama-index) (2.6)\n",
      "Requirement already satisfied: certifi>=2024.7.4 in c:\\users\\acisse\\appdata\\roaming\\python\\python311\\site-packages (from llama-cloud<0.2.0,>=0.1.13->llama-index-indices-managed-llama-cloud>=0.4.0->llama-index) (2025.1.31)\n",
      "Requirement already satisfied: anyio in c:\\users\\acisse\\appdata\\roaming\\python\\python311\\site-packages (from httpx->llama-index-core<0.13.0,>=0.12.23->llama-index) (4.8.0)\n",
      "Requirement already satisfied: httpcore==1.* in c:\\users\\acisse\\appdata\\roaming\\python\\python311\\site-packages (from httpx->llama-index-core<0.13.0,>=0.12.23->llama-index) (1.0.7)\n",
      "Requirement already satisfied: idna in c:\\users\\acisse\\appdata\\roaming\\python\\python311\\site-packages (from httpx->llama-index-core<0.13.0,>=0.12.23->llama-index) (3.10)\n",
      "Requirement already satisfied: h11<0.15,>=0.13 in c:\\users\\acisse\\appdata\\roaming\\python\\python311\\site-packages (from httpcore==1.*->httpx->llama-index-core<0.13.0,>=0.12.23->llama-index) (0.14.0)\n",
      "Requirement already satisfied: llama-cloud-services>=0.6.4 in c:\\users\\acisse\\appdata\\roaming\\python\\python311\\site-packages (from llama-parse>=0.5.0->llama-index-readers-llama-parse>=0.4.0->llama-index) (0.6.5)\n",
      "Requirement already satisfied: distro<2,>=1.7.0 in c:\\users\\acisse\\appdata\\roaming\\python\\python311\\site-packages (from openai>=1.14.0->llama-index-agent-openai<0.5.0,>=0.4.0->llama-index) (1.9.0)\n",
      "Requirement already satisfied: jiter<1,>=0.4.0 in c:\\users\\acisse\\appdata\\roaming\\python\\python311\\site-packages (from openai>=1.14.0->llama-index-agent-openai<0.5.0,>=0.4.0->llama-index) (0.8.2)\n",
      "Requirement already satisfied: sniffio in c:\\users\\acisse\\appdata\\roaming\\python\\python311\\site-packages (from openai>=1.14.0->llama-index-agent-openai<0.5.0,>=0.4.0->llama-index) (1.3.1)\n",
      "Requirement already satisfied: annotated-types>=0.6.0 in c:\\users\\acisse\\appdata\\roaming\\python\\python311\\site-packages (from pydantic>=2.8.0->llama-index-core<0.13.0,>=0.12.23->llama-index) (0.7.0)\n",
      "Requirement already satisfied: pydantic-core==2.27.2 in c:\\users\\acisse\\appdata\\roaming\\python\\python311\\site-packages (from pydantic>=2.8.0->llama-index-core<0.13.0,>=0.12.23->llama-index) (2.27.2)\n",
      "Requirement already satisfied: charset-normalizer<4,>=2 in c:\\users\\acisse\\appdata\\roaming\\python\\python311\\site-packages (from requests>=2.31.0->llama-index-core<0.13.0,>=0.12.23->llama-index) (3.4.1)\n",
      "Requirement already satisfied: urllib3<3,>=1.21.1 in c:\\users\\acisse\\appdata\\roaming\\python\\python311\\site-packages (from requests>=2.31.0->llama-index-core<0.13.0,>=0.12.23->llama-index) (2.3.0)\n",
      "Requirement already satisfied: greenlet!=0.4.17 in c:\\users\\acisse\\appdata\\roaming\\python\\python311\\site-packages (from SQLAlchemy>=1.4.49->SQLAlchemy[asyncio]>=1.4.49->llama-index-core<0.13.0,>=0.12.23->llama-index) (3.1.1)\n",
      "Requirement already satisfied: colorama in c:\\users\\acisse\\.conda\\envs\\pymtd2json\\lib\\site-packages (from tqdm<5.0.0,>=4.66.1->llama-index-core<0.13.0,>=0.12.23->llama-index) (0.4.6)\n",
      "Requirement already satisfied: mypy-extensions>=0.3.0 in c:\\users\\acisse\\appdata\\roaming\\python\\python311\\site-packages (from typing-inspect>=0.8.0->llama-index-core<0.13.0,>=0.12.23->llama-index) (1.0.0)\n",
      "Requirement already satisfied: marshmallow<4.0.0,>=3.18.0 in c:\\users\\acisse\\appdata\\roaming\\python\\python311\\site-packages (from dataclasses-json->llama-index-core<0.13.0,>=0.12.23->llama-index) (3.26.1)\n",
      "Requirement already satisfied: python-dateutil>=2.8.2 in c:\\users\\acisse\\.conda\\envs\\pymtd2json\\lib\\site-packages (from pandas->llama-index-readers-file<0.5.0,>=0.4.0->llama-index) (2.9.0.post0)\n",
      "Requirement already satisfied: pytz>=2020.1 in c:\\users\\acisse\\appdata\\roaming\\python\\python311\\site-packages (from pandas->llama-index-readers-file<0.5.0,>=0.4.0->llama-index) (2025.1)\n",
      "Requirement already satisfied: tzdata>=2022.7 in c:\\users\\acisse\\appdata\\roaming\\python\\python311\\site-packages (from pandas->llama-index-readers-file<0.5.0,>=0.4.0->llama-index) (2025.1)\n",
      "Requirement already satisfied: python-dotenv<2.0.0,>=1.0.1 in c:\\users\\acisse\\appdata\\roaming\\python\\python311\\site-packages (from llama-cloud-services>=0.6.4->llama-parse>=0.5.0->llama-index-readers-llama-parse>=0.4.0->llama-index) (1.0.1)\n",
      "Requirement already satisfied: packaging>=17.0 in c:\\users\\acisse\\.conda\\envs\\pymtd2json\\lib\\site-packages (from marshmallow<4.0.0,>=3.18.0->dataclasses-json->llama-index-core<0.13.0,>=0.12.23->llama-index) (24.2)\n",
      "Requirement already satisfied: six>=1.5 in c:\\users\\acisse\\.conda\\envs\\pymtd2json\\lib\\site-packages (from python-dateutil>=2.8.2->pandas->llama-index-readers-file<0.5.0,>=0.4.0->llama-index) (1.17.0)\n",
      "Note: you may need to restart the kernel to use updated packages.\n"
     ]
    }
   ],
   "source": [
    "%pip install llama-index numpy"
   ]
  },
  {
   "cell_type": "code",
   "execution_count": 2,
   "metadata": {},
   "outputs": [
    {
     "name": "stderr",
     "output_type": "stream",
     "text": [
      "fatal: destination path 'ai-data-zoo' already exists and is not an empty directory.\n"
     ]
    }
   ],
   "source": [
    "!git clone https://github.com/amadou-6e/ai-data-zoo.git\n",
    "!tar -xf ai-data-zoo\\markdown.zip "
   ]
  },
  {
   "cell_type": "code",
   "execution_count": 3,
   "metadata": {},
   "outputs": [
    {
     "name": "stdout",
     "output_type": "stream",
     "text": [
      "Loaded 16 documents\n"
     ]
    }
   ],
   "source": [
    "from pathlib import Path\n",
    "from llama_index.core import SimpleDirectoryReader\n",
    "\n",
    "# Replace this path with your actual docs folder\n",
    "source_dir = Path(\"markdown\")\n",
    "\n",
    "# Load markdown documents\n",
    "documents = SimpleDirectoryReader(source_dir, required_exts=[\".md\"], recursive=True).load_data()\n",
    "print(f\"Loaded {len(documents)} documents\")"
   ]
  },
  {
   "cell_type": "code",
   "execution_count": null,
   "metadata": {},
   "outputs": [],
   "source": [
    "from pymdt2json import MinifyMDT\n",
    "\n",
    "for idx, doc in enumerate(documents):\n",
    "    print(idx)\n",
    "    MinifyMDT(doc.text_resource.text).transform()"
   ]
  },
  {
   "cell_type": "code",
   "execution_count": 14,
   "metadata": {},
   "outputs": [
    {
     "name": "stdout",
     "output_type": "stream",
     "text": [
      "Collecting tabulate\n",
      "  Using cached tabulate-0.9.0-py3-none-any.whl.metadata (34 kB)\n",
      "Using cached tabulate-0.9.0-py3-none-any.whl (35 kB)\n",
      "Installing collected packages: tabulate\n",
      "Successfully installed tabulate-0.9.0\n"
     ]
    }
   ],
   "source": [
    "!pip install tabulate"
   ]
  },
  {
   "cell_type": "code",
   "execution_count": 28,
   "metadata": {},
   "outputs": [
    {
     "name": "stdout",
     "output_type": "stream",
     "text": [
      "| A very long row content, which leads to a lot of white spaces   |   Age | City   |\n",
      "|:----------------------------------------------------------------|------:|:-------|\n",
      "| Person0                                                         |    20 | City0  |\n",
      "| Person1                                                         |    21 | City1  |\n",
      "| Person2                                                         |    22 | City2  |\n",
      "| Person3                                                         |    23 | City3  |\n",
      "| Person4                                                         |    24 | City4  |\n",
      "| Person5                                                         |    25 | City5  |\n",
      "| Person6                                                         |    26 | City6  |\n",
      "| Person7                                                         |    27 | City7  |\n",
      "| Person8                                                         |    28 | City8  |\n",
      "| Person9                                                         |    29 | City9  |\n",
      "| Person10                                                        |    30 | City10 |\n",
      "| Person11                                                        |    31 | City11 |\n",
      "| Person12                                                        |    32 | City12 |\n",
      "| Person13                                                        |    33 | City13 |\n",
      "| Person14                                                        |    34 | City14 |\n",
      "| Person15                                                        |    35 | City15 |\n",
      "| Person16                                                        |    36 | City16 |\n",
      "| Person17                                                        |    37 | City17 |\n",
      "| Person18                                                        |    38 | City18 |\n",
      "| Person19                                                        |    39 | City19 |\n",
      "| Person20                                                        |    40 | City20 |\n",
      "| Person21                                                        |    41 | City21 |\n",
      "| Person22                                                        |    42 | City22 |\n",
      "| Person23                                                        |    43 | City23 |\n",
      "| Person24                                                        |    44 | City24 |\n",
      "| Person25                                                        |    45 | City25 |\n",
      "| Person26                                                        |    46 | City26 |\n",
      "| Person27                                                        |    47 | City27 |\n",
      "| Person28                                                        |    48 | City28 |\n",
      "| Person29                                                        |    49 | City29 |\n"
     ]
    }
   ],
   "source": [
    "import pandas as pd\n",
    "\n",
    "# Build data first\n",
    "data = {\n",
    "    \"Name\": [f\"Person{i}\" for i in range(30)],\n",
    "    \"Age\": [20 + i for i in range(30)],\n",
    "    \"City\": [f\"City{i}\" for i in range(30)]\n",
    "}\n",
    "\n",
    "# Create DataFrame\n",
    "df = pd.DataFrame(data)\n",
    "\n",
    "# Adjust column names if needed\n",
    "df.columns = [\"A very long row content, which leads to a lot of white spaces\", \"Age\", \"City\"]\n",
    "\n",
    "# Convert to Markdown table\n",
    "table_text = df.to_markdown(index=False)\n",
    "\n",
    "print(table_text)"
   ]
  },
  {
   "cell_type": "markdown",
   "metadata": {},
   "source": [
    "It creates 100 rows  \n",
    "Now let's measure the characters and tokens:"
   ]
  },
  {
   "cell_type": "code",
   "execution_count": 29,
   "metadata": {},
   "outputs": [
    {
     "data": {
      "text/plain": [
       "2719"
      ]
     },
     "execution_count": 29,
     "metadata": {},
     "output_type": "execute_result"
    }
   ],
   "source": [
    "len(table_text)"
   ]
  },
  {
   "cell_type": "code",
   "execution_count": 30,
   "metadata": {},
   "outputs": [],
   "source": [
    "from transformers import AutoTokenizer\n",
    "\n",
    "# Load the tokenizer for Cohere's multilingual embedding model\n",
    "tokenizer = AutoTokenizer.from_pretrained(\"Cohere/Cohere-embed-multilingual-v3.0\")\n"
   ]
  },
  {
   "cell_type": "code",
   "execution_count": 31,
   "metadata": {},
   "outputs": [
    {
     "name": "stdout",
     "output_type": "stream",
     "text": [
      "Characters: 2719\n",
      "Tokens: 432\n"
     ]
    }
   ],
   "source": [
    "encoded = tokenizer(table_text, return_tensors=\"pt\", add_special_tokens=False)\n",
    "\n",
    "num_tokens = encoded.input_ids.shape[-1]\n",
    "num_chars = len(table_text)\n",
    "\n",
    "print(f\"Characters: {num_chars}\")\n",
    "print(f\"Tokens: {num_tokens}\")"
   ]
  },
  {
   "cell_type": "code",
   "execution_count": null,
   "metadata": {},
   "outputs": [],
   "source": [
    "from pymdt2json import MinifyMDT\n",
    "\n",
    "compressed_table = MinifyMDT(table_text).transform()\n",
    "print(len(compressed_table))"
   ]
  },
  {
   "cell_type": "code",
   "execution_count": null,
   "metadata": {},
   "outputs": [],
   "source": []
  }
 ],
 "metadata": {
  "kernelspec": {
   "display_name": "pymtd2json",
   "language": "python",
   "name": "python3"
  },
  "language_info": {
   "codemirror_mode": {
    "name": "ipython",
    "version": 3
   },
   "file_extension": ".py",
   "mimetype": "text/x-python",
   "name": "python",
   "nbconvert_exporter": "python",
   "pygments_lexer": "ipython3",
   "version": "3.11.11"
  }
 },
 "nbformat": 4,
 "nbformat_minor": 2
}
